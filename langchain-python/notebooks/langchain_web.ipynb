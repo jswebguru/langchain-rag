{
 "cells": [
  {
   "cell_type": "markdown",
   "metadata": {},
   "source": [
    "# LangChain Samples\n",
    "\n",
    "LangChain is an open source framework for interacting with LLMs. This notebook gives some examples on how to use LangChain with GCP."
   ]
  },
  {
   "cell_type": "code",
   "execution_count": 1,
   "metadata": {},
   "outputs": [
    {
     "name": "stdout",
     "output_type": "stream",
     "text": [
      "Defaulting to user installation because normal site-packages is not writeable\n",
      "Requirement already satisfied: langchain==0.0.340 in /home/giulia/.local/lib/python3.8/site-packages (from -r requirements.txt (line 1)) (0.0.340)\n",
      "Requirement already satisfied: google-cloud-storage==2.13.0 in /home/giulia/.local/lib/python3.8/site-packages (from -r requirements.txt (line 2)) (2.13.0)\n",
      "Requirement already satisfied: google-api-core==2.14.0 in /home/giulia/.local/lib/python3.8/site-packages (from -r requirements.txt (line 3)) (2.14.0)\n",
      "Requirement already satisfied: google-cloud-aiplatform==1.36.4 in /home/giulia/.local/lib/python3.8/site-packages (from -r requirements.txt (line 4)) (1.36.4)\n",
      "Requirement already satisfied: chromadb==0.4.18 in /home/giulia/.local/lib/python3.8/site-packages (from -r requirements.txt (line 5)) (0.4.18)\n",
      "Requirement already satisfied: langchainhub==0.1.14 in /home/giulia/.local/lib/python3.8/site-packages (from -r requirements.txt (line 6)) (0.1.14)\n",
      "Requirement already satisfied: unstructured[all-docs] in /home/giulia/.local/lib/python3.8/site-packages (from -r requirements.txt (line 7)) (0.11.0)\n",
      "Requirement already satisfied: PyYAML>=5.3 in /home/giulia/.local/lib/python3.8/site-packages (from langchain==0.0.340->-r requirements.txt (line 1)) (6.0.1)\n",
      "Requirement already satisfied: SQLAlchemy<3,>=1.4 in /home/giulia/.local/lib/python3.8/site-packages (from langchain==0.0.340->-r requirements.txt (line 1)) (2.0.23)\n",
      "Requirement already satisfied: aiohttp<4.0.0,>=3.8.3 in /home/giulia/.local/lib/python3.8/site-packages (from langchain==0.0.340->-r requirements.txt (line 1)) (3.9.1)\n",
      "Requirement already satisfied: anyio<4.0 in /home/giulia/.local/lib/python3.8/site-packages (from langchain==0.0.340->-r requirements.txt (line 1)) (3.7.1)\n",
      "Requirement already satisfied: async-timeout<5.0.0,>=4.0.0 in /home/giulia/.local/lib/python3.8/site-packages (from langchain==0.0.340->-r requirements.txt (line 1)) (4.0.3)\n",
      "Requirement already satisfied: dataclasses-json<0.7,>=0.5.7 in /home/giulia/.local/lib/python3.8/site-packages (from langchain==0.0.340->-r requirements.txt (line 1)) (0.6.2)\n",
      "Requirement already satisfied: jsonpatch<2.0,>=1.33 in /home/giulia/.local/lib/python3.8/site-packages (from langchain==0.0.340->-r requirements.txt (line 1)) (1.33)\n",
      "Requirement already satisfied: langsmith<0.1.0,>=0.0.63 in /home/giulia/.local/lib/python3.8/site-packages (from langchain==0.0.340->-r requirements.txt (line 1)) (0.0.66)\n",
      "Requirement already satisfied: numpy<2,>=1 in /home/giulia/.local/lib/python3.8/site-packages (from langchain==0.0.340->-r requirements.txt (line 1)) (1.24.4)\n",
      "Requirement already satisfied: pydantic<3,>=1 in /home/giulia/.local/lib/python3.8/site-packages (from langchain==0.0.340->-r requirements.txt (line 1)) (2.5.2)\n",
      "Requirement already satisfied: requests<3,>=2 in /home/giulia/.local/lib/python3.8/site-packages (from langchain==0.0.340->-r requirements.txt (line 1)) (2.31.0)\n",
      "Requirement already satisfied: tenacity<9.0.0,>=8.1.0 in /home/giulia/.local/lib/python3.8/site-packages (from langchain==0.0.340->-r requirements.txt (line 1)) (8.2.3)\n",
      "Requirement already satisfied: google-auth<3.0dev,>=2.23.3 in /home/giulia/.local/lib/python3.8/site-packages (from google-cloud-storage==2.13.0->-r requirements.txt (line 2)) (2.23.4)\n",
      "Requirement already satisfied: google-cloud-core<3.0dev,>=2.3.0 in /home/giulia/.local/lib/python3.8/site-packages (from google-cloud-storage==2.13.0->-r requirements.txt (line 2)) (2.3.3)\n",
      "Requirement already satisfied: google-resumable-media>=2.6.0 in /home/giulia/.local/lib/python3.8/site-packages (from google-cloud-storage==2.13.0->-r requirements.txt (line 2)) (2.6.0)\n",
      "Requirement already satisfied: google-crc32c<2.0dev,>=1.0 in /home/giulia/.local/lib/python3.8/site-packages (from google-cloud-storage==2.13.0->-r requirements.txt (line 2)) (1.5.0)\n",
      "Requirement already satisfied: googleapis-common-protos<2.0.dev0,>=1.56.2 in /home/giulia/.local/lib/python3.8/site-packages (from google-api-core==2.14.0->-r requirements.txt (line 3)) (1.61.0)\n",
      "Requirement already satisfied: protobuf!=3.20.0,!=3.20.1,!=4.21.0,!=4.21.1,!=4.21.2,!=4.21.3,!=4.21.4,!=4.21.5,<5.0.0.dev0,>=3.19.5 in /home/giulia/.local/lib/python3.8/site-packages (from google-api-core==2.14.0->-r requirements.txt (line 3)) (4.25.1)\n",
      "Requirement already satisfied: proto-plus<2.0.0dev,>=1.22.0 in /home/giulia/.local/lib/python3.8/site-packages (from google-cloud-aiplatform==1.36.4->-r requirements.txt (line 4)) (1.22.3)\n",
      "Requirement already satisfied: packaging>=14.3 in /home/giulia/.local/lib/python3.8/site-packages (from google-cloud-aiplatform==1.36.4->-r requirements.txt (line 4)) (23.2)\n",
      "Requirement already satisfied: google-cloud-bigquery<4.0.0dev,>=1.15.0 in /home/giulia/.local/lib/python3.8/site-packages (from google-cloud-aiplatform==1.36.4->-r requirements.txt (line 4)) (3.13.0)\n",
      "Requirement already satisfied: google-cloud-resource-manager<3.0.0dev,>=1.3.3 in /home/giulia/.local/lib/python3.8/site-packages (from google-cloud-aiplatform==1.36.4->-r requirements.txt (line 4)) (1.10.4)\n",
      "Requirement already satisfied: shapely<3.0.0dev in /home/giulia/.local/lib/python3.8/site-packages (from google-cloud-aiplatform==1.36.4->-r requirements.txt (line 4)) (1.8.1.post1)\n",
      "Requirement already satisfied: chroma-hnswlib==0.7.3 in /home/giulia/.local/lib/python3.8/site-packages (from chromadb==0.4.18->-r requirements.txt (line 5)) (0.7.3)\n",
      "Requirement already satisfied: fastapi>=0.95.2 in /home/giulia/.local/lib/python3.8/site-packages (from chromadb==0.4.18->-r requirements.txt (line 5)) (0.104.1)\n",
      "Requirement already satisfied: uvicorn[standard]>=0.18.3 in /home/giulia/.local/lib/python3.8/site-packages (from chromadb==0.4.18->-r requirements.txt (line 5)) (0.24.0.post1)\n",
      "Requirement already satisfied: posthog>=2.4.0 in /home/giulia/.local/lib/python3.8/site-packages (from chromadb==0.4.18->-r requirements.txt (line 5)) (3.0.2)\n",
      "Requirement already satisfied: typing-extensions>=4.5.0 in /home/giulia/.local/lib/python3.8/site-packages (from chromadb==0.4.18->-r requirements.txt (line 5)) (4.8.0)\n",
      "Requirement already satisfied: pulsar-client>=3.1.0 in /home/giulia/.local/lib/python3.8/site-packages (from chromadb==0.4.18->-r requirements.txt (line 5)) (3.3.0)\n",
      "Requirement already satisfied: onnxruntime>=1.14.1 in /home/giulia/.local/lib/python3.8/site-packages (from chromadb==0.4.18->-r requirements.txt (line 5)) (1.15.1)\n",
      "Requirement already satisfied: opentelemetry-api>=1.2.0 in /home/giulia/.local/lib/python3.8/site-packages (from chromadb==0.4.18->-r requirements.txt (line 5)) (1.21.0)\n",
      "Requirement already satisfied: opentelemetry-exporter-otlp-proto-grpc>=1.2.0 in /home/giulia/.local/lib/python3.8/site-packages (from chromadb==0.4.18->-r requirements.txt (line 5)) (1.21.0)\n",
      "Requirement already satisfied: opentelemetry-instrumentation-fastapi>=0.41b0 in /home/giulia/.local/lib/python3.8/site-packages (from chromadb==0.4.18->-r requirements.txt (line 5)) (0.42b0)\n",
      "Requirement already satisfied: opentelemetry-sdk>=1.2.0 in /home/giulia/.local/lib/python3.8/site-packages (from chromadb==0.4.18->-r requirements.txt (line 5)) (1.21.0)\n",
      "Requirement already satisfied: tokenizers>=0.13.2 in /home/giulia/.local/lib/python3.8/site-packages (from chromadb==0.4.18->-r requirements.txt (line 5)) (0.15.0)\n",
      "Requirement already satisfied: pypika>=0.48.9 in /home/giulia/.local/lib/python3.8/site-packages (from chromadb==0.4.18->-r requirements.txt (line 5)) (0.48.9)\n",
      "Requirement already satisfied: tqdm>=4.65.0 in /home/giulia/.local/lib/python3.8/site-packages (from chromadb==0.4.18->-r requirements.txt (line 5)) (4.66.1)\n",
      "Requirement already satisfied: overrides>=7.3.1 in /home/giulia/.local/lib/python3.8/site-packages (from chromadb==0.4.18->-r requirements.txt (line 5)) (7.4.0)\n",
      "Requirement already satisfied: importlib-resources in /home/giulia/.local/lib/python3.8/site-packages (from chromadb==0.4.18->-r requirements.txt (line 5)) (6.1.1)\n",
      "Requirement already satisfied: grpcio>=1.58.0 in /home/giulia/.local/lib/python3.8/site-packages (from chromadb==0.4.18->-r requirements.txt (line 5)) (1.59.3)\n",
      "Requirement already satisfied: bcrypt>=4.0.1 in /home/giulia/.local/lib/python3.8/site-packages (from chromadb==0.4.18->-r requirements.txt (line 5)) (4.0.1)\n",
      "Requirement already satisfied: typer>=0.9.0 in /home/giulia/.local/lib/python3.8/site-packages (from chromadb==0.4.18->-r requirements.txt (line 5)) (0.9.0)\n",
      "Requirement already satisfied: kubernetes>=28.1.0 in /home/giulia/.local/lib/python3.8/site-packages (from chromadb==0.4.18->-r requirements.txt (line 5)) (28.1.0)\n",
      "Requirement already satisfied: mmh3>=4.0.1 in /home/giulia/.local/lib/python3.8/site-packages (from chromadb==0.4.18->-r requirements.txt (line 5)) (4.0.1)\n",
      "Requirement already satisfied: graphlib-backport>=1.0.3 in /home/giulia/.local/lib/python3.8/site-packages (from chromadb==0.4.18->-r requirements.txt (line 5)) (1.0.3)\n",
      "Requirement already satisfied: types-requests<3.0.0.0,>=2.31.0.2 in /home/giulia/.local/lib/python3.8/site-packages (from langchainhub==0.1.14->-r requirements.txt (line 6)) (2.31.0.6)\n",
      "Requirement already satisfied: chardet in /home/giulia/.local/lib/python3.8/site-packages (from unstructured[all-docs]->-r requirements.txt (line 7)) (5.2.0)\n",
      "Requirement already satisfied: filetype in /home/giulia/.local/lib/python3.8/site-packages (from unstructured[all-docs]->-r requirements.txt (line 7)) (1.2.0)\n",
      "Requirement already satisfied: python-magic in /home/giulia/.local/lib/python3.8/site-packages (from unstructured[all-docs]->-r requirements.txt (line 7)) (0.4.27)\n",
      "Requirement already satisfied: lxml in /home/giulia/.local/lib/python3.8/site-packages (from unstructured[all-docs]->-r requirements.txt (line 7)) (4.9.3)\n",
      "Requirement already satisfied: nltk in /home/giulia/.local/lib/python3.8/site-packages (from unstructured[all-docs]->-r requirements.txt (line 7)) (3.8.1)\n",
      "Requirement already satisfied: tabulate in /home/giulia/.local/lib/python3.8/site-packages (from unstructured[all-docs]->-r requirements.txt (line 7)) (0.9.0)\n",
      "Requirement already satisfied: beautifulsoup4 in /home/giulia/.local/lib/python3.8/site-packages (from unstructured[all-docs]->-r requirements.txt (line 7)) (4.12.2)\n",
      "Requirement already satisfied: emoji in /home/giulia/.local/lib/python3.8/site-packages (from unstructured[all-docs]->-r requirements.txt (line 7)) (2.8.0)\n",
      "Requirement already satisfied: python-iso639 in /home/giulia/.local/lib/python3.8/site-packages (from unstructured[all-docs]->-r requirements.txt (line 7)) (2023.6.15)\n",
      "Requirement already satisfied: langdetect in /home/giulia/.local/lib/python3.8/site-packages (from unstructured[all-docs]->-r requirements.txt (line 7)) (1.0.9)\n",
      "Requirement already satisfied: rapidfuzz in /home/giulia/.local/lib/python3.8/site-packages (from unstructured[all-docs]->-r requirements.txt (line 7)) (3.5.2)\n",
      "Requirement already satisfied: backoff in /home/giulia/.local/lib/python3.8/site-packages (from unstructured[all-docs]->-r requirements.txt (line 7)) (2.2.1)\n",
      "Requirement already satisfied: wrapt in /home/giulia/.local/lib/python3.8/site-packages (from unstructured[all-docs]->-r requirements.txt (line 7)) (1.16.0)\n",
      "Requirement already satisfied: openpyxl in /home/giulia/.local/lib/python3.8/site-packages (from unstructured[all-docs]->-r requirements.txt (line 7)) (3.1.2)\n",
      "Requirement already satisfied: pypandoc in /home/giulia/.local/lib/python3.8/site-packages (from unstructured[all-docs]->-r requirements.txt (line 7)) (1.12)\n",
      "Requirement already satisfied: markdown in /home/giulia/.local/lib/python3.8/site-packages (from unstructured[all-docs]->-r requirements.txt (line 7)) (3.5.1)\n",
      "Requirement already satisfied: python-pptx<=0.6.23 in /home/giulia/.local/lib/python3.8/site-packages (from unstructured[all-docs]->-r requirements.txt (line 7)) (0.6.23)\n",
      "Requirement already satisfied: pdfminer.six in /home/giulia/.local/lib/python3.8/site-packages (from unstructured[all-docs]->-r requirements.txt (line 7)) (20221105)\n",
      "Requirement already satisfied: onnx in /home/giulia/.local/lib/python3.8/site-packages (from unstructured[all-docs]->-r requirements.txt (line 7)) (1.15.0)\n",
      "Requirement already satisfied: python-docx>=1.1.0 in /home/giulia/.local/lib/python3.8/site-packages (from unstructured[all-docs]->-r requirements.txt (line 7)) (1.1.0)\n",
      "Requirement already satisfied: xlrd in /home/giulia/.local/lib/python3.8/site-packages (from unstructured[all-docs]->-r requirements.txt (line 7)) (2.0.1)\n",
      "Requirement already satisfied: unstructured-inference==0.7.15 in /home/giulia/.local/lib/python3.8/site-packages (from unstructured[all-docs]->-r requirements.txt (line 7)) (0.7.15)\n",
      "Requirement already satisfied: pdf2image in /home/giulia/.local/lib/python3.8/site-packages (from unstructured[all-docs]->-r requirements.txt (line 7)) (1.16.3)\n",
      "Requirement already satisfied: networkx in /home/giulia/.local/lib/python3.8/site-packages (from unstructured[all-docs]->-r requirements.txt (line 7)) (2.6.3)\n",
      "Requirement already satisfied: pandas in /home/giulia/.local/lib/python3.8/site-packages (from unstructured[all-docs]->-r requirements.txt (line 7)) (2.0.3)\n",
      "Requirement already satisfied: unstructured.pytesseract>=0.3.12 in /home/giulia/.local/lib/python3.8/site-packages (from unstructured[all-docs]->-r requirements.txt (line 7)) (0.3.12)\n",
      "Requirement already satisfied: msg-parser in /home/giulia/.local/lib/python3.8/site-packages (from unstructured[all-docs]->-r requirements.txt (line 7)) (1.2.0)\n",
      "Requirement already satisfied: layoutparser[layoutmodels,tesseract] in /home/giulia/.local/lib/python3.8/site-packages (from unstructured-inference==0.7.15->unstructured[all-docs]->-r requirements.txt (line 7)) (0.3.4)\n",
      "Requirement already satisfied: python-multipart in /home/giulia/.local/lib/python3.8/site-packages (from unstructured-inference==0.7.15->unstructured[all-docs]->-r requirements.txt (line 7)) (0.0.6)\n",
      "Requirement already satisfied: huggingface-hub in /home/giulia/.local/lib/python3.8/site-packages (from unstructured-inference==0.7.15->unstructured[all-docs]->-r requirements.txt (line 7)) (0.19.4)\n",
      "Requirement already satisfied: opencv-python!=4.7.0.68 in /home/giulia/.local/lib/python3.8/site-packages (from unstructured-inference==0.7.15->unstructured[all-docs]->-r requirements.txt (line 7)) (4.8.1.78)\n",
      "Requirement already satisfied: transformers>=4.25.1 in /home/giulia/.local/lib/python3.8/site-packages (from unstructured-inference==0.7.15->unstructured[all-docs]->-r requirements.txt (line 7)) (4.35.2)\n",
      "Requirement already satisfied: attrs>=17.3.0 in /home/giulia/.local/lib/python3.8/site-packages (from aiohttp<4.0.0,>=3.8.3->langchain==0.0.340->-r requirements.txt (line 1)) (23.1.0)\n",
      "Requirement already satisfied: multidict<7.0,>=4.5 in /home/giulia/.local/lib/python3.8/site-packages (from aiohttp<4.0.0,>=3.8.3->langchain==0.0.340->-r requirements.txt (line 1)) (6.0.4)\n",
      "Requirement already satisfied: yarl<2.0,>=1.0 in /home/giulia/.local/lib/python3.8/site-packages (from aiohttp<4.0.0,>=3.8.3->langchain==0.0.340->-r requirements.txt (line 1)) (1.9.3)\n",
      "Requirement already satisfied: frozenlist>=1.1.1 in /home/giulia/.local/lib/python3.8/site-packages (from aiohttp<4.0.0,>=3.8.3->langchain==0.0.340->-r requirements.txt (line 1)) (1.4.0)\n",
      "Requirement already satisfied: aiosignal>=1.1.2 in /home/giulia/.local/lib/python3.8/site-packages (from aiohttp<4.0.0,>=3.8.3->langchain==0.0.340->-r requirements.txt (line 1)) (1.3.1)\n",
      "Requirement already satisfied: idna>=2.8 in /home/giulia/.local/lib/python3.8/site-packages (from anyio<4.0->langchain==0.0.340->-r requirements.txt (line 1)) (3.4)\n",
      "Requirement already satisfied: sniffio>=1.1 in /home/giulia/.local/lib/python3.8/site-packages (from anyio<4.0->langchain==0.0.340->-r requirements.txt (line 1)) (1.3.0)\n",
      "Requirement already satisfied: exceptiongroup in /home/giulia/.local/lib/python3.8/site-packages (from anyio<4.0->langchain==0.0.340->-r requirements.txt (line 1)) (1.2.0)\n",
      "Requirement already satisfied: marshmallow<4.0.0,>=3.18.0 in /home/giulia/.local/lib/python3.8/site-packages (from dataclasses-json<0.7,>=0.5.7->langchain==0.0.340->-r requirements.txt (line 1)) (3.20.1)\n",
      "Requirement already satisfied: typing-inspect<1,>=0.4.0 in /home/giulia/.local/lib/python3.8/site-packages (from dataclasses-json<0.7,>=0.5.7->langchain==0.0.340->-r requirements.txt (line 1)) (0.9.0)\n",
      "Requirement already satisfied: starlette<0.28.0,>=0.27.0 in /home/giulia/.local/lib/python3.8/site-packages (from fastapi>=0.95.2->chromadb==0.4.18->-r requirements.txt (line 5)) (0.27.0)\n",
      "Requirement already satisfied: grpcio-status<2.0.dev0,>=1.33.2 in /home/giulia/.local/lib/python3.8/site-packages (from google-api-core==2.14.0->-r requirements.txt (line 3)) (1.59.3)\n",
      "Requirement already satisfied: cachetools<6.0,>=2.0.0 in /home/giulia/.local/lib/python3.8/site-packages (from google-auth<3.0dev,>=2.23.3->google-cloud-storage==2.13.0->-r requirements.txt (line 2)) (5.3.2)\n",
      "Requirement already satisfied: pyasn1-modules>=0.2.1 in /home/giulia/.local/lib/python3.8/site-packages (from google-auth<3.0dev,>=2.23.3->google-cloud-storage==2.13.0->-r requirements.txt (line 2)) (0.3.0)\n",
      "Requirement already satisfied: rsa<5,>=3.1.4 in /home/giulia/.local/lib/python3.8/site-packages (from google-auth<3.0dev,>=2.23.3->google-cloud-storage==2.13.0->-r requirements.txt (line 2)) (4.9)\n",
      "Requirement already satisfied: python-dateutil<3.0dev,>=2.7.2 in /home/giulia/.local/lib/python3.8/site-packages (from google-cloud-bigquery<4.0.0dev,>=1.15.0->google-cloud-aiplatform==1.36.4->-r requirements.txt (line 4)) (2.8.2)\n",
      "Requirement already satisfied: grpc-google-iam-v1<1.0.0dev,>=0.12.4 in /home/giulia/.local/lib/python3.8/site-packages (from google-cloud-resource-manager<3.0.0dev,>=1.3.3->google-cloud-aiplatform==1.36.4->-r requirements.txt (line 4)) (0.12.7)\n",
      "Requirement already satisfied: jsonpointer>=1.9 in /home/giulia/.local/lib/python3.8/site-packages (from jsonpatch<2.0,>=1.33->langchain==0.0.340->-r requirements.txt (line 1)) (2.4)\n",
      "Requirement already satisfied: certifi>=14.05.14 in /home/giulia/.local/lib/python3.8/site-packages (from kubernetes>=28.1.0->chromadb==0.4.18->-r requirements.txt (line 5)) (2023.11.17)\n",
      "Requirement already satisfied: six>=1.9.0 in /home/giulia/.local/lib/python3.8/site-packages (from kubernetes>=28.1.0->chromadb==0.4.18->-r requirements.txt (line 5)) (1.16.0)\n",
      "Requirement already satisfied: websocket-client!=0.40.0,!=0.41.*,!=0.42.*,>=0.32.0 in /home/giulia/.local/lib/python3.8/site-packages (from kubernetes>=28.1.0->chromadb==0.4.18->-r requirements.txt (line 5)) (1.6.4)\n",
      "Requirement already satisfied: requests-oauthlib in /home/giulia/.local/lib/python3.8/site-packages (from kubernetes>=28.1.0->chromadb==0.4.18->-r requirements.txt (line 5)) (1.3.1)\n",
      "Requirement already satisfied: oauthlib>=3.2.2 in /home/giulia/.local/lib/python3.8/site-packages (from kubernetes>=28.1.0->chromadb==0.4.18->-r requirements.txt (line 5)) (3.2.2)\n",
      "Requirement already satisfied: urllib3<2.0,>=1.24.2 in /home/giulia/.local/lib/python3.8/site-packages (from kubernetes>=28.1.0->chromadb==0.4.18->-r requirements.txt (line 5)) (1.26.18)\n",
      "Requirement already satisfied: coloredlogs in /home/giulia/.local/lib/python3.8/site-packages (from onnxruntime>=1.14.1->chromadb==0.4.18->-r requirements.txt (line 5)) (15.0.1)\n",
      "Requirement already satisfied: flatbuffers in /home/giulia/.local/lib/python3.8/site-packages (from onnxruntime>=1.14.1->chromadb==0.4.18->-r requirements.txt (line 5)) (23.5.26)\n",
      "Requirement already satisfied: sympy in /home/giulia/.local/lib/python3.8/site-packages (from onnxruntime>=1.14.1->chromadb==0.4.18->-r requirements.txt (line 5)) (1.12)\n",
      "Requirement already satisfied: deprecated>=1.2.6 in /home/giulia/.local/lib/python3.8/site-packages (from opentelemetry-api>=1.2.0->chromadb==0.4.18->-r requirements.txt (line 5)) (1.2.14)\n",
      "Requirement already satisfied: importlib-metadata<7.0,>=6.0 in /home/giulia/.local/lib/python3.8/site-packages (from opentelemetry-api>=1.2.0->chromadb==0.4.18->-r requirements.txt (line 5)) (6.8.0)\n",
      "Requirement already satisfied: opentelemetry-exporter-otlp-proto-common==1.21.0 in /home/giulia/.local/lib/python3.8/site-packages (from opentelemetry-exporter-otlp-proto-grpc>=1.2.0->chromadb==0.4.18->-r requirements.txt (line 5)) (1.21.0)\n",
      "Requirement already satisfied: opentelemetry-proto==1.21.0 in /home/giulia/.local/lib/python3.8/site-packages (from opentelemetry-exporter-otlp-proto-grpc>=1.2.0->chromadb==0.4.18->-r requirements.txt (line 5)) (1.21.0)\n",
      "Requirement already satisfied: opentelemetry-instrumentation-asgi==0.42b0 in /home/giulia/.local/lib/python3.8/site-packages (from opentelemetry-instrumentation-fastapi>=0.41b0->chromadb==0.4.18->-r requirements.txt (line 5)) (0.42b0)\n",
      "Requirement already satisfied: opentelemetry-instrumentation==0.42b0 in /home/giulia/.local/lib/python3.8/site-packages (from opentelemetry-instrumentation-fastapi>=0.41b0->chromadb==0.4.18->-r requirements.txt (line 5)) (0.42b0)\n",
      "Requirement already satisfied: opentelemetry-semantic-conventions==0.42b0 in /home/giulia/.local/lib/python3.8/site-packages (from opentelemetry-instrumentation-fastapi>=0.41b0->chromadb==0.4.18->-r requirements.txt (line 5)) (0.42b0)\n",
      "Requirement already satisfied: opentelemetry-util-http==0.42b0 in /home/giulia/.local/lib/python3.8/site-packages (from opentelemetry-instrumentation-fastapi>=0.41b0->chromadb==0.4.18->-r requirements.txt (line 5)) (0.42b0)\n",
      "Requirement already satisfied: setuptools>=16.0 in /home/giulia/.local/lib/python3.8/site-packages (from opentelemetry-instrumentation==0.42b0->opentelemetry-instrumentation-fastapi>=0.41b0->chromadb==0.4.18->-r requirements.txt (line 5)) (67.7.2)\n",
      "Requirement already satisfied: asgiref~=3.0 in /home/giulia/.local/lib/python3.8/site-packages (from opentelemetry-instrumentation-asgi==0.42b0->opentelemetry-instrumentation-fastapi>=0.41b0->chromadb==0.4.18->-r requirements.txt (line 5)) (3.7.2)\n",
      "Requirement already satisfied: monotonic>=1.5 in /home/giulia/.local/lib/python3.8/site-packages (from posthog>=2.4.0->chromadb==0.4.18->-r requirements.txt (line 5)) (1.6)\n",
      "Requirement already satisfied: annotated-types>=0.4.0 in /home/giulia/.local/lib/python3.8/site-packages (from pydantic<3,>=1->langchain==0.0.340->-r requirements.txt (line 1)) (0.6.0)\n",
      "Requirement already satisfied: pydantic-core==2.14.5 in /home/giulia/.local/lib/python3.8/site-packages (from pydantic<3,>=1->langchain==0.0.340->-r requirements.txt (line 1)) (2.14.5)\n",
      "Requirement already satisfied: Pillow>=3.3.2 in /home/giulia/.local/lib/python3.8/site-packages (from python-pptx<=0.6.23->unstructured[all-docs]->-r requirements.txt (line 7)) (10.1.0)\n",
      "Requirement already satisfied: XlsxWriter>=0.5.7 in /home/giulia/.local/lib/python3.8/site-packages (from python-pptx<=0.6.23->unstructured[all-docs]->-r requirements.txt (line 7)) (3.1.9)\n",
      "Requirement already satisfied: charset-normalizer<4,>=2 in /home/giulia/.local/lib/python3.8/site-packages (from requests<3,>=2->langchain==0.0.340->-r requirements.txt (line 1)) (3.3.2)\n",
      "Requirement already satisfied: greenlet!=0.4.17 in /home/giulia/.local/lib/python3.8/site-packages (from SQLAlchemy<3,>=1.4->langchain==0.0.340->-r requirements.txt (line 1)) (3.0.1)\n",
      "Requirement already satisfied: click<9.0.0,>=7.1.1 in /home/giulia/.local/lib/python3.8/site-packages (from typer>=0.9.0->chromadb==0.4.18->-r requirements.txt (line 5)) (8.1.7)\n",
      "Requirement already satisfied: types-urllib3 in /home/giulia/.local/lib/python3.8/site-packages (from types-requests<3.0.0.0,>=2.31.0.2->langchainhub==0.1.14->-r requirements.txt (line 6)) (1.26.25.14)\n",
      "Requirement already satisfied: h11>=0.8 in /home/giulia/.local/lib/python3.8/site-packages (from uvicorn[standard]>=0.18.3->chromadb==0.4.18->-r requirements.txt (line 5)) (0.14.0)\n",
      "Requirement already satisfied: httptools>=0.5.0 in /home/giulia/.local/lib/python3.8/site-packages (from uvicorn[standard]>=0.18.3->chromadb==0.4.18->-r requirements.txt (line 5)) (0.6.1)\n",
      "Requirement already satisfied: python-dotenv>=0.13 in /home/giulia/.local/lib/python3.8/site-packages (from uvicorn[standard]>=0.18.3->chromadb==0.4.18->-r requirements.txt (line 5)) (1.0.0)\n",
      "Requirement already satisfied: uvloop!=0.15.0,!=0.15.1,>=0.14.0 in /home/giulia/.local/lib/python3.8/site-packages (from uvicorn[standard]>=0.18.3->chromadb==0.4.18->-r requirements.txt (line 5)) (0.19.0)\n",
      "Requirement already satisfied: watchfiles>=0.13 in /home/giulia/.local/lib/python3.8/site-packages (from uvicorn[standard]>=0.18.3->chromadb==0.4.18->-r requirements.txt (line 5)) (0.21.0)\n",
      "Requirement already satisfied: websockets>=10.4 in /home/giulia/.local/lib/python3.8/site-packages (from uvicorn[standard]>=0.18.3->chromadb==0.4.18->-r requirements.txt (line 5)) (12.0)\n",
      "Requirement already satisfied: soupsieve>1.2 in /home/giulia/.local/lib/python3.8/site-packages (from beautifulsoup4->unstructured[all-docs]->-r requirements.txt (line 7)) (2.5)\n",
      "Requirement already satisfied: zipp>=3.1.0 in /home/giulia/.local/lib/python3.8/site-packages (from importlib-resources->chromadb==0.4.18->-r requirements.txt (line 5)) (3.17.0)\n",
      "Requirement already satisfied: olefile>=0.46 in /home/giulia/.local/lib/python3.8/site-packages (from msg-parser->unstructured[all-docs]->-r requirements.txt (line 7)) (0.46)\n",
      "Requirement already satisfied: joblib in /home/giulia/.local/lib/python3.8/site-packages (from nltk->unstructured[all-docs]->-r requirements.txt (line 7)) (1.3.2)\n",
      "Requirement already satisfied: regex>=2021.8.3 in /home/giulia/.local/lib/python3.8/site-packages (from nltk->unstructured[all-docs]->-r requirements.txt (line 7)) (2023.10.3)\n",
      "Requirement already satisfied: et-xmlfile in /home/giulia/.local/lib/python3.8/site-packages (from openpyxl->unstructured[all-docs]->-r requirements.txt (line 7)) (1.1.0)\n",
      "Requirement already satisfied: pytz>=2020.1 in /home/giulia/.local/lib/python3.8/site-packages (from pandas->unstructured[all-docs]->-r requirements.txt (line 7)) (2023.3.post1)\n",
      "Requirement already satisfied: tzdata>=2022.1 in /home/giulia/.local/lib/python3.8/site-packages (from pandas->unstructured[all-docs]->-r requirements.txt (line 7)) (2023.3)\n",
      "Requirement already satisfied: cryptography>=36.0.0 in /home/giulia/.local/lib/python3.8/site-packages (from pdfminer.six->unstructured[all-docs]->-r requirements.txt (line 7)) (41.0.5)\n",
      "Requirement already satisfied: cffi>=1.12 in /home/giulia/.local/lib/python3.8/site-packages (from cryptography>=36.0.0->pdfminer.six->unstructured[all-docs]->-r requirements.txt (line 7)) (1.16.0)\n",
      "Requirement already satisfied: filelock in /home/giulia/.local/lib/python3.8/site-packages (from huggingface-hub->unstructured-inference==0.7.15->unstructured[all-docs]->-r requirements.txt (line 7)) (3.13.1)\n",
      "Requirement already satisfied: fsspec>=2023.5.0 in /home/giulia/.local/lib/python3.8/site-packages (from huggingface-hub->unstructured-inference==0.7.15->unstructured[all-docs]->-r requirements.txt (line 7)) (2023.10.0)\n",
      "Requirement already satisfied: pyasn1<0.6.0,>=0.4.6 in /home/giulia/.local/lib/python3.8/site-packages (from pyasn1-modules>=0.2.1->google-auth<3.0dev,>=2.23.3->google-cloud-storage==2.13.0->-r requirements.txt (line 2)) (0.5.1)\n",
      "Requirement already satisfied: safetensors>=0.3.1 in /home/giulia/.local/lib/python3.8/site-packages (from transformers>=4.25.1->unstructured-inference==0.7.15->unstructured[all-docs]->-r requirements.txt (line 7)) (0.4.0)\n",
      "Requirement already satisfied: mypy-extensions>=0.3.0 in /home/giulia/.local/lib/python3.8/site-packages (from typing-inspect<1,>=0.4.0->dataclasses-json<0.7,>=0.5.7->langchain==0.0.340->-r requirements.txt (line 1)) (1.0.0)\n",
      "Requirement already satisfied: humanfriendly>=9.1 in /home/giulia/.local/lib/python3.8/site-packages (from coloredlogs->onnxruntime>=1.14.1->chromadb==0.4.18->-r requirements.txt (line 5)) (10.0)\n",
      "Requirement already satisfied: scipy in /home/giulia/.local/lib/python3.8/site-packages (from layoutparser[layoutmodels,tesseract]->unstructured-inference==0.7.15->unstructured[all-docs]->-r requirements.txt (line 7)) (1.10.1)\n",
      "Requirement already satisfied: iopath in /home/giulia/.local/lib/python3.8/site-packages (from layoutparser[layoutmodels,tesseract]->unstructured-inference==0.7.15->unstructured[all-docs]->-r requirements.txt (line 7)) (0.1.10)\n",
      "Requirement already satisfied: pdfplumber in /home/giulia/.local/lib/python3.8/site-packages (from layoutparser[layoutmodels,tesseract]->unstructured-inference==0.7.15->unstructured[all-docs]->-r requirements.txt (line 7)) (0.10.3)\n",
      "Requirement already satisfied: torch in /home/giulia/.local/lib/python3.8/site-packages (from layoutparser[layoutmodels,tesseract]->unstructured-inference==0.7.15->unstructured[all-docs]->-r requirements.txt (line 7)) (2.1.1)\n",
      "Requirement already satisfied: torchvision in /home/giulia/.local/lib/python3.8/site-packages (from layoutparser[layoutmodels,tesseract]->unstructured-inference==0.7.15->unstructured[all-docs]->-r requirements.txt (line 7)) (0.16.1)\n",
      "Requirement already satisfied: effdet in /home/giulia/.local/lib/python3.8/site-packages (from layoutparser[layoutmodels,tesseract]->unstructured-inference==0.7.15->unstructured[all-docs]->-r requirements.txt (line 7)) (0.4.1)\n",
      "Requirement already satisfied: pytesseract in /home/giulia/.local/lib/python3.8/site-packages (from layoutparser[layoutmodels,tesseract]->unstructured-inference==0.7.15->unstructured[all-docs]->-r requirements.txt (line 7)) (0.3.10)\n",
      "Requirement already satisfied: mpmath>=0.19 in /home/giulia/.local/lib/python3.8/site-packages (from sympy->onnxruntime>=1.14.1->chromadb==0.4.18->-r requirements.txt (line 5)) (1.3.0)\n",
      "Requirement already satisfied: pycparser in /home/giulia/.local/lib/python3.8/site-packages (from cffi>=1.12->cryptography>=36.0.0->pdfminer.six->unstructured[all-docs]->-r requirements.txt (line 7)) (2.21)\n",
      "Requirement already satisfied: timm>=0.9.2 in /home/giulia/.local/lib/python3.8/site-packages (from effdet->layoutparser[layoutmodels,tesseract]->unstructured-inference==0.7.15->unstructured[all-docs]->-r requirements.txt (line 7)) (0.9.12)\n",
      "Requirement already satisfied: pycocotools>=2.0.2 in /home/giulia/.local/lib/python3.8/site-packages (from effdet->layoutparser[layoutmodels,tesseract]->unstructured-inference==0.7.15->unstructured[all-docs]->-r requirements.txt (line 7)) (2.0.7)\n",
      "Requirement already satisfied: omegaconf>=2.0 in /home/giulia/.local/lib/python3.8/site-packages (from effdet->layoutparser[layoutmodels,tesseract]->unstructured-inference==0.7.15->unstructured[all-docs]->-r requirements.txt (line 7)) (2.3.0)\n",
      "Requirement already satisfied: jinja2 in /home/giulia/.local/lib/python3.8/site-packages (from torch->layoutparser[layoutmodels,tesseract]->unstructured-inference==0.7.15->unstructured[all-docs]->-r requirements.txt (line 7)) (3.1.2)\n",
      "Requirement already satisfied: nvidia-cuda-nvrtc-cu12==12.1.105 in /home/giulia/.local/lib/python3.8/site-packages (from torch->layoutparser[layoutmodels,tesseract]->unstructured-inference==0.7.15->unstructured[all-docs]->-r requirements.txt (line 7)) (12.1.105)\n",
      "Requirement already satisfied: nvidia-cuda-runtime-cu12==12.1.105 in /home/giulia/.local/lib/python3.8/site-packages (from torch->layoutparser[layoutmodels,tesseract]->unstructured-inference==0.7.15->unstructured[all-docs]->-r requirements.txt (line 7)) (12.1.105)\n",
      "Requirement already satisfied: nvidia-cuda-cupti-cu12==12.1.105 in /home/giulia/.local/lib/python3.8/site-packages (from torch->layoutparser[layoutmodels,tesseract]->unstructured-inference==0.7.15->unstructured[all-docs]->-r requirements.txt (line 7)) (12.1.105)\n",
      "Requirement already satisfied: nvidia-cudnn-cu12==8.9.2.26 in /home/giulia/.local/lib/python3.8/site-packages (from torch->layoutparser[layoutmodels,tesseract]->unstructured-inference==0.7.15->unstructured[all-docs]->-r requirements.txt (line 7)) (8.9.2.26)\n",
      "Requirement already satisfied: nvidia-cublas-cu12==12.1.3.1 in /home/giulia/.local/lib/python3.8/site-packages (from torch->layoutparser[layoutmodels,tesseract]->unstructured-inference==0.7.15->unstructured[all-docs]->-r requirements.txt (line 7)) (12.1.3.1)\n",
      "Requirement already satisfied: nvidia-cufft-cu12==11.0.2.54 in /home/giulia/.local/lib/python3.8/site-packages (from torch->layoutparser[layoutmodels,tesseract]->unstructured-inference==0.7.15->unstructured[all-docs]->-r requirements.txt (line 7)) (11.0.2.54)\n",
      "Requirement already satisfied: nvidia-curand-cu12==10.3.2.106 in /home/giulia/.local/lib/python3.8/site-packages (from torch->layoutparser[layoutmodels,tesseract]->unstructured-inference==0.7.15->unstructured[all-docs]->-r requirements.txt (line 7)) (10.3.2.106)\n",
      "Requirement already satisfied: nvidia-cusolver-cu12==11.4.5.107 in /home/giulia/.local/lib/python3.8/site-packages (from torch->layoutparser[layoutmodels,tesseract]->unstructured-inference==0.7.15->unstructured[all-docs]->-r requirements.txt (line 7)) (11.4.5.107)\n",
      "Requirement already satisfied: nvidia-cusparse-cu12==12.1.0.106 in /home/giulia/.local/lib/python3.8/site-packages (from torch->layoutparser[layoutmodels,tesseract]->unstructured-inference==0.7.15->unstructured[all-docs]->-r requirements.txt (line 7)) (12.1.0.106)\n",
      "Requirement already satisfied: nvidia-nccl-cu12==2.18.1 in /home/giulia/.local/lib/python3.8/site-packages (from torch->layoutparser[layoutmodels,tesseract]->unstructured-inference==0.7.15->unstructured[all-docs]->-r requirements.txt (line 7)) (2.18.1)\n",
      "Requirement already satisfied: nvidia-nvtx-cu12==12.1.105 in /home/giulia/.local/lib/python3.8/site-packages (from torch->layoutparser[layoutmodels,tesseract]->unstructured-inference==0.7.15->unstructured[all-docs]->-r requirements.txt (line 7)) (12.1.105)\n",
      "Requirement already satisfied: triton==2.1.0 in /home/giulia/.local/lib/python3.8/site-packages (from torch->layoutparser[layoutmodels,tesseract]->unstructured-inference==0.7.15->unstructured[all-docs]->-r requirements.txt (line 7)) (2.1.0)\n",
      "Requirement already satisfied: nvidia-nvjitlink-cu12 in /home/giulia/.local/lib/python3.8/site-packages (from nvidia-cusolver-cu12==11.4.5.107->torch->layoutparser[layoutmodels,tesseract]->unstructured-inference==0.7.15->unstructured[all-docs]->-r requirements.txt (line 7)) (12.3.101)\n",
      "Requirement already satisfied: portalocker in /home/giulia/.local/lib/python3.8/site-packages (from iopath->layoutparser[layoutmodels,tesseract]->unstructured-inference==0.7.15->unstructured[all-docs]->-r requirements.txt (line 7)) (2.8.2)\n",
      "Requirement already satisfied: pypdfium2>=4.18.0 in /home/giulia/.local/lib/python3.8/site-packages (from pdfplumber->layoutparser[layoutmodels,tesseract]->unstructured-inference==0.7.15->unstructured[all-docs]->-r requirements.txt (line 7)) (4.24.0)\n",
      "Requirement already satisfied: antlr4-python3-runtime==4.9.* in /home/giulia/.local/lib/python3.8/site-packages (from omegaconf>=2.0->effdet->layoutparser[layoutmodels,tesseract]->unstructured-inference==0.7.15->unstructured[all-docs]->-r requirements.txt (line 7)) (4.9.3)\n",
      "Requirement already satisfied: matplotlib>=2.1.0 in /home/giulia/.local/lib/python3.8/site-packages (from pycocotools>=2.0.2->effdet->layoutparser[layoutmodels,tesseract]->unstructured-inference==0.7.15->unstructured[all-docs]->-r requirements.txt (line 7)) (3.7.4)\n",
      "Requirement already satisfied: MarkupSafe>=2.0 in /home/giulia/.local/lib/python3.8/site-packages (from jinja2->torch->layoutparser[layoutmodels,tesseract]->unstructured-inference==0.7.15->unstructured[all-docs]->-r requirements.txt (line 7)) (2.1.3)\n",
      "Requirement already satisfied: contourpy>=1.0.1 in /home/giulia/.local/lib/python3.8/site-packages (from matplotlib>=2.1.0->pycocotools>=2.0.2->effdet->layoutparser[layoutmodels,tesseract]->unstructured-inference==0.7.15->unstructured[all-docs]->-r requirements.txt (line 7)) (1.1.1)\n",
      "Requirement already satisfied: cycler>=0.10 in /home/giulia/.local/lib/python3.8/site-packages (from matplotlib>=2.1.0->pycocotools>=2.0.2->effdet->layoutparser[layoutmodels,tesseract]->unstructured-inference==0.7.15->unstructured[all-docs]->-r requirements.txt (line 7)) (0.12.1)\n",
      "Requirement already satisfied: fonttools>=4.22.0 in /home/giulia/.local/lib/python3.8/site-packages (from matplotlib>=2.1.0->pycocotools>=2.0.2->effdet->layoutparser[layoutmodels,tesseract]->unstructured-inference==0.7.15->unstructured[all-docs]->-r requirements.txt (line 7)) (4.45.1)\n",
      "Requirement already satisfied: kiwisolver>=1.0.1 in /home/giulia/.local/lib/python3.8/site-packages (from matplotlib>=2.1.0->pycocotools>=2.0.2->effdet->layoutparser[layoutmodels,tesseract]->unstructured-inference==0.7.15->unstructured[all-docs]->-r requirements.txt (line 7)) (1.4.5)\n",
      "Requirement already satisfied: pyparsing>=2.3.1 in /home/giulia/.local/lib/python3.8/site-packages (from matplotlib>=2.1.0->pycocotools>=2.0.2->effdet->layoutparser[layoutmodels,tesseract]->unstructured-inference==0.7.15->unstructured[all-docs]->-r requirements.txt (line 7)) (3.1.1)\n",
      "\n",
      "\u001b[1m[\u001b[0m\u001b[34;49mnotice\u001b[0m\u001b[1;39;49m]\u001b[0m\u001b[39;49m A new release of pip is available: \u001b[0m\u001b[31;49m23.2.1\u001b[0m\u001b[39;49m -> \u001b[0m\u001b[32;49m23.3.1\u001b[0m\n",
      "\u001b[1m[\u001b[0m\u001b[34;49mnotice\u001b[0m\u001b[1;39;49m]\u001b[0m\u001b[39;49m To update, run: \u001b[0m\u001b[32;49mpip install --upgrade pip\u001b[0m\n",
      "Note: you may need to restart the kernel to use updated packages.\n"
     ]
    }
   ],
   "source": [
    "# Install dependencies\n",
    "%pip install --upgrade -r requirements.txt"
   ]
  },
  {
   "cell_type": "code",
   "execution_count": 3,
   "metadata": {},
   "outputs": [],
   "source": [
    "# Global Variables (CHANGE THESE)\n",
    "PROJECT_ID = \"PROJECT-ID\"\n",
    "\n",
    "RAW_BUCKET = \"GCS-BUCKET\""
   ]
  },
  {
   "cell_type": "code",
   "execution_count": 4,
   "metadata": {},
   "outputs": [],
   "source": [
    "# Load websites from URLs into LangChain documents\n",
    "\n",
    "from langchain.document_loaders import RecursiveUrlLoader\n",
    "from bs4 import BeautifulSoup as Soup\n",
    "\n",
    "url = \"https://developers.google.com/machine-learning/guides/\"\n",
    "loader = RecursiveUrlLoader(\n",
    "    url=url, max_depth=2, extractor=lambda x: Soup(x, \"html.parser\").text\n",
    ")\n",
    "documents = loader.load()"
   ]
  },
  {
   "cell_type": "code",
   "execution_count": 5,
   "metadata": {},
   "outputs": [],
   "source": [
    "# Split the documents into chunks so we can embed them\n",
    "\n",
    "from langchain.text_splitter import RecursiveCharacterTextSplitter\n",
    "\n",
    "text_splitter = RecursiveCharacterTextSplitter(\n",
    "    chunk_size=1000, chunk_overlap=200, add_start_index=True\n",
    ")\n",
    "all_splits = text_splitter.split_documents(documents)"
   ]
  },
  {
   "cell_type": "code",
   "execution_count": 6,
   "metadata": {},
   "outputs": [
    {
     "data": {
      "text/plain": [
       "159"
      ]
     },
     "execution_count": 6,
     "metadata": {},
     "output_type": "execute_result"
    }
   ],
   "source": [
    "# Let's see how many chunks we have\n",
    "\n",
    "len(all_splits)"
   ]
  },
  {
   "cell_type": "code",
   "execution_count": 7,
   "metadata": {},
   "outputs": [],
   "source": [
    "# We now create a vectorstore so we can retrieve relevant embeddings\n",
    "\n",
    "from langchain.embeddings import VertexAIEmbeddings\n",
    "from langchain.vectorstores import Chroma\n",
    "\n",
    "vectorstore = Chroma.from_documents(documents=all_splits, embedding=VertexAIEmbeddings())"
   ]
  },
  {
   "cell_type": "code",
   "execution_count": 8,
   "metadata": {},
   "outputs": [],
   "source": [
    "# Now we create a retriever which we can use to actually search the vectorstore\n",
    "\n",
    "retriever = vectorstore.as_retriever(search_type=\"similarity\", search_kwargs={\"k\": 6})"
   ]
  },
  {
   "cell_type": "code",
   "execution_count": 9,
   "metadata": {},
   "outputs": [],
   "source": [
    "# Let's ask a question to our retriever\n",
    "\n",
    "retrieved_docs = retriever.get_relevant_documents(\n",
    "    \"What is the first rule of machine learning?\"\n",
    ")"
   ]
  },
  {
   "cell_type": "code",
   "execution_count": 10,
   "metadata": {},
   "outputs": [
    {
     "name": "stdout",
     "output_type": "stream",
     "text": [
      "Before Machine Learning\n",
      "Rule #1: Don’t be afraid to launch a product without machine learning.\n",
      "Machine learning is cool, but it requires data. Theoretically, you can take data\n",
      "from a different problem and then tweak the model for a new product, but this\n",
      "will likely underperform basic\n",
      "heuristics. If you think that\n",
      "machine learning will give you a 100% boost, then a heuristic will get you 50%\n",
      "of the way there.\n",
      "For instance, if you are ranking apps in an app marketplace, you could use the\n",
      "install rate or number of installs as heuristics. If you are detecting spam,\n",
      "filter out publishers that have sent spam before. Don’t be afraid to use human\n",
      "editing either. If you need to rank contacts, rank the most recently used\n",
      "highest (or even rank alphabetically). If machine learning is not absolutely\n",
      "required for your product, don't use it until you have data.\n",
      "Rule #2: First, design and implement metrics.\n",
      "Before formalizing what your machine learning system will do, track as much as\n"
     ]
    }
   ],
   "source": [
    "# Let's see what we retrieved!\n",
    "\n",
    "print(retrieved_docs[0].page_content)"
   ]
  },
  {
   "cell_type": "code",
   "execution_count": 11,
   "metadata": {},
   "outputs": [],
   "source": [
    "# Now we'll create a Vertex AI LLM\n",
    "from langchain.llms import VertexAI\n",
    "\n",
    "llm = VertexAI(temperature=0)"
   ]
  },
  {
   "cell_type": "code",
   "execution_count": 12,
   "metadata": {},
   "outputs": [],
   "source": [
    "# We will use an existing prompt template from LangChain Hub\n",
    "\n",
    "from langchain import hub\n",
    "\n",
    "prompt = hub.pull(\"rlm/rag-prompt\")"
   ]
  },
  {
   "cell_type": "code",
   "execution_count": 13,
   "metadata": {},
   "outputs": [
    {
     "name": "stdout",
     "output_type": "stream",
     "text": [
      "Human: You are an assistant for question-answering tasks. Use the following pieces of retrieved context to answer the question. If you don't know the answer, just say that you don't know. Use three sentences maximum and keep the answer concise.\n",
      "Question: filler question \n",
      "Context: filler context \n",
      "Answer:\n"
     ]
    }
   ],
   "source": [
    "# Let's see what this prompt looks like then\n",
    "\n",
    "print(\n",
    "    prompt.invoke(\n",
    "        {\"context\": \"filler context\", \"question\": \"filler question\"}\n",
    "    ).to_string()\n",
    ")"
   ]
  },
  {
   "cell_type": "code",
   "execution_count": 14,
   "metadata": {},
   "outputs": [],
   "source": [
    "from langchain.prompts import PromptTemplate\n",
    "\n",
    "prompt_template = PromptTemplate.from_template(\n",
    "    \"Human: You are an assistant for question-answering tasks. Use the following pieces of retrieved context to answer the question. If you don't know the answer, just say that you don't know. Use three sentences maximum and keep the answer concise. \\nQuestion: {question} \\nContext: {context} \\nAnswer:\"\n",
    ")"
   ]
  },
  {
   "cell_type": "code",
   "execution_count": 15,
   "metadata": {},
   "outputs": [],
   "source": [
    "# Now we will create a chain to get answers from the questions based on samples retrieved from our retriever\n",
    "\n",
    "from langchain.schema import StrOutputParser\n",
    "from langchain.schema.runnable import RunnablePassthrough\n",
    "\n",
    "\n",
    "def format_docs(docs):\n",
    "    return \"\\n\\n\".join(doc.page_content for doc in docs)\n",
    "\n",
    "\n",
    "rag_chain = (\n",
    "    {\"context\": retriever | format_docs, \"question\": RunnablePassthrough()}\n",
    "    | prompt_template\n",
    "    | llm\n",
    "    | StrOutputParser()\n",
    ")"
   ]
  },
  {
   "cell_type": "code",
   "execution_count": 14,
   "metadata": {},
   "outputs": [
    {
     "name": "stdout",
     "output_type": "stream",
     "text": [
      " The first rule of machine learning is: Don't be afraid to launch a product without machine learning. "
     ]
    }
   ],
   "source": [
    "# And now we can actually ask a question to our chain!\n",
    "\n",
    "for chunk in rag_chain.stream(\"What is the first rule of machine learning?\"):\n",
    "    print(chunk, end=\"\", flush=True)"
   ]
  },
  {
   "cell_type": "code",
   "execution_count": null,
   "metadata": {},
   "outputs": [],
   "source": []
  }
 ],
 "metadata": {
  "kernelspec": {
   "display_name": "Python 3",
   "language": "python",
   "name": "python3"
  },
  "language_info": {
   "codemirror_mode": {
    "name": "ipython",
    "version": 3
   },
   "file_extension": ".py",
   "mimetype": "text/x-python",
   "name": "python",
   "nbconvert_exporter": "python",
   "pygments_lexer": "ipython3",
   "version": "3.8.18"
  }
 },
 "nbformat": 4,
 "nbformat_minor": 2
}
